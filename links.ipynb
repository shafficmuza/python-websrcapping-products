{
 "cells": [
  {
   "cell_type": "code",
   "execution_count": 137,
   "metadata": {},
   "outputs": [],
   "source": [
    "import requests\n",
    "from bs4 import BeautifulSoup\n",
    "## Define request and get payload ##\n",
    "baseurl = 'https://www.positivepromotions.com/custom-bumper-stickers/c/navpp_1001_103/'\n",
    "headers = {'user-agent': 'Mozilla/5.0 (Windows NT 6.3; Win64; x64) AppleWebKit/537.36 (KHTML, like Gecko) Chrome/96.0.4664.45 Safari/537.36'}\n",
    "productlinks = []\n",
    "r = requests.get(baseurl,headers=headers, timeout=600)\n",
    "response = r.content.decode()\n",
    "#print(response)\n",
    "## payload ends here\n",
    "soup = BeautifulSoup(response, 'lxml')\n",
    "productlist = soup.find_all('div', class_='prod-img-wrap')\n",
    "#print(productlist)\n",
    "for item in productlist:\n",
    "    for link in item.find_all('a', href=True):\n",
    "        productlinks.append(link['href'])\n",
    "print(productlinks)\n",
    "\n",
    "testlink = 'https://www.positivepromotions.com/paw-auto-magnet-personalization-available/p/os-7410/'\n",
    "r2 = requests.get(testlink,headers=headers, timeout=600)\n",
    "response2 = r2.content.decode()\n",
    "soup2 = BeautifulSoup(response2, 'lxml')\n",
    "name = soup2.find('h1', class_='moveX').text.strip()\n",
    "#image = soup.find('img', src='True')\n",
    "qty = soup2.find('label', id='min-imprint-qty')\n",
    "moq = qty.find('span', class_='value').text.strip()\n",
    "pds = soup2.find_all('span',id ='itemtotal-price-preview-lbl')\n",
    "\n",
    "#subcat = soup2.find_all('li', itemprop='itemListElement')\n",
    "\n",
    "\n",
    "#print(pds)\n",
    "##print(name,moq,price2)\n",
    "\n"
   ]
  },
  {
   "cell_type": "code",
   "execution_count": null,
   "metadata": {},
   "outputs": [],
   "source": []
  },
  {
   "cell_type": "code",
   "execution_count": null,
   "metadata": {},
   "outputs": [],
   "source": []
  }
 ],
 "metadata": {
  "kernelspec": {
   "display_name": "Python 3",
   "language": "python",
   "name": "python3"
  },
  "language_info": {
   "codemirror_mode": {
    "name": "ipython",
    "version": 3
   },
   "file_extension": ".py",
   "mimetype": "text/x-python",
   "name": "python",
   "nbconvert_exporter": "python",
   "pygments_lexer": "ipython3",
   "version": "3.7.6"
  }
 },
 "nbformat": 4,
 "nbformat_minor": 4
}
