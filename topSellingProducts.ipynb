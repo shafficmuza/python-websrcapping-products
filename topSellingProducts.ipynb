{
 "cells": [
  {
   "cell_type": "code",
   "execution_count": 201,
   "metadata": {
    "scrolled": true
   },
   "outputs": [
    {
     "name": "stdout",
     "output_type": "stream",
     "text": [
      "Saving :  https://www.positivepromotions.com/images/350/OSV5358.jpg?v=102183671778-1\n",
      "Saving :  https://www.positivepromotions.com/images/350/OSV7866.jpg?v=102183812110-1\n",
      "Saving :  https://www.positivepromotions.com/images/350/OSA3816.jpg?v=102182422917-2\n",
      "Saving :  https://www.positivepromotions.com/images/350/OS-9537.jpg?v=102182409959-1\n",
      "Saving :  https://www.positivepromotions.com/images/350/OSW7912.jpg?v=102183298018-2\n",
      "Saving :  https://www.positivepromotions.com/images/350/OSV5258.jpg?v=102183664661-1\n",
      "Saving :  https://www.positivepromotions.com/images/350/KTP-302.jpg?v=102182371469-2\n",
      "Saving :  https://www.positivepromotions.com/images/350/OSW3076.jpg?v=102182445098-1\n",
      "Saving :  https://www.positivepromotions.com/images/350/OS-5939.jpg?v=102182399811-2\n",
      "Saving :  https://www.positivepromotions.com/images/350/OSV4381.jpg?v=102183609934-3\n",
      "Saving :  https://www.positivepromotions.com/images/350/OS-5900.jpg?v=102182399708-1\n",
      "Saving :  https://www.positivepromotions.com/images/350/OS-3391.jpg?v=102182396415-1\n",
      "Saving :  https://www.positivepromotions.com/images/350/OSV5356.jpg?v=102183671622-1\n",
      "Saving :  https://www.positivepromotions.com/images/350/KTP-327.jpg?v=102182371490-1\n",
      "Saving :  https://www.positivepromotions.com/images/350/OSW3210.jpg?v=102182445795-1\n",
      "Saving :  https://www.positivepromotions.com/images/350/KTP368P.jpg?v=102183176270-2\n",
      "Saving :  https://www.positivepromotions.com/images/350/OST-974.jpg?v=102183126179-2\n",
      "Saving :  https://www.positivepromotions.com/images/350/KTP-22.jpg?v=102182371385-2\n",
      "Saving :  https://www.positivepromotions.com/images/350/OSW2422.jpg?v=102182442438-1\n",
      "Saving :  https://www.positivepromotions.com/images/350/OSW-330.jpg?v=102182438669-1\n",
      "Saving :  https://www.positivepromotions.com/images/350/OS10187.jpg?v=102182411903-3\n",
      "Saving :  https://www.positivepromotions.com/images/350/GNP4334.jpg?v=102182352647-1\n",
      "Saving :  https://www.positivepromotions.com/images/350/OSW4269.jpg?v=102182450247-3\n",
      "Saving :  https://www.positivepromotions.com/images/350/OSW6606.jpg?v=102183198837-5\n",
      "Saving :  https://www.positivepromotions.com/images/350/OSV1739.jpg?v=102183472789-2\n",
      "Saving :  https://www.positivepromotions.com/images/350/OSV1710.jpg?v=102183522674-2\n",
      "Saving :  https://www.positivepromotions.com/images/350/OSW3512.jpg?v=102182447057-1\n",
      "Saving :  https://www.positivepromotions.com/images/350/OS-1873.jpg?v=102182395509-2\n",
      "Saving :  https://www.positivepromotions.com/images/350/OS-7732.jpg?v=102182403605-1\n",
      "Saving :  https://www.positivepromotions.com/images/350/OSW4235.jpg?v=102182450170-1\n",
      "Saving :  https://www.positivepromotions.com/images/350/OST-531.jpg?v=102182437818-1\n",
      "Saving :  https://www.positivepromotions.com/images/350/OSW3073.jpg?v=102182445077-1\n",
      "Saving :  https://www.positivepromotions.com/images/350/OS-8244.jpg?v=102182405227-1\n",
      "Saving :  https://www.positivepromotions.com/images/350/OSW8850.jpg?v=102183363219-2\n",
      "Saving :  https://www.positivepromotions.com/images/350/OSW3155.jpg?v=102182445556-1\n",
      "Saving :  https://www.positivepromotions.com/images/350/OSW3025.jpg?v=102182444791-1\n",
      "Saving :  https://www.positivepromotions.com/images/350/OSW3116.jpg?v=102182445346-1\n",
      "Saving :  https://www.positivepromotions.com/images/350/OS-5957.jpg?v=102182399859-1\n",
      "Saving :  https://www.positivepromotions.com/images/350/OS-5917.jpg?v=102182399764-1\n",
      "Saving :  https://www.positivepromotions.com/images/350/OS-7526.jpg?v=102182403065-1\n"
     ]
    }
   ],
   "source": [
    "from bs4 import BeautifulSoup\n",
    "import requests\n",
    "import pandas as pd\n",
    "\n",
    "url = 'https://www.positivepromotions.com/custom-key-chains/c/navpp_1001_261/'\n",
    "headers = {'user-agent': 'Mozilla/5.0 (Windows NT 6.3; Win64; x64) AppleWebKit/537.36 (KHTML, like Gecko) Chrome/96.0.4664.45 Safari/537.36'}\n",
    "result = requests.get(url, headers=headers, timeout=300)\n",
    "data = result.content.decode()\n",
    "soup1 = BeautifulSoup(data,'lxml')\n",
    "## get the category\n",
    "## get the conbtainer first container\n",
    "subcategory = soup1.find('h1').text.strip()\n",
    "\n",
    "itemlist = []\n",
    "linklist = []\n",
    "for soup in soup1.find_all('div', class_='row cat-prod-list'):\n",
    "\n",
    "    for productList in soup.find_all('div', class_='col-sm-4 col-md-3 cat-prod-container'):\n",
    "      title = productList.find('a', class_='product-title').text.strip()\n",
    "      price = productList.find('span', class_='cat-price').text.strip()\n",
    "      sku = productList.find('div', class_='grid-prod-sku').text.strip()\n",
    "      #productlist = soup.find_all('div', class_='prod-img-wrap')\n",
    "      links = productList.find('a', class_='cat-prod-img',href=True)['href']\n",
    "      image = productList.find('img')['data-src']\n",
    "    \n",
    "      items = {\n",
    "              'Title': title,\n",
    "              'Price': price,\n",
    "              'Sku': sku,\n",
    "              'Category': subcategory,\n",
    "              'Link': links,\n",
    "              'Image': image\n",
    "          }\n",
    "      itemlist.append(items)\n",
    "      print('Saving : ',image)\n",
    "                \n",
    "        \n",
    "#    ##print(items)\n",
    "##print(subcategory)\n",
    "##Pagination Tag: div data-page:1 id: categoryProducts\n",
    "##print(linklist)\n",
    "#print(len(itemlist))\n",
    "\n",
    "df = pd.DataFrame(itemlist)\n",
    "##print(df.head(5))\n",
    "df.to_csv('itemsfound.csv')\n",
    "###\n",
    "    \n",
    "     "
   ]
  },
  {
   "cell_type": "code",
   "execution_count": null,
   "metadata": {},
   "outputs": [],
   "source": []
  },
  {
   "cell_type": "code",
   "execution_count": null,
   "metadata": {},
   "outputs": [],
   "source": []
  },
  {
   "cell_type": "code",
   "execution_count": null,
   "metadata": {},
   "outputs": [],
   "source": []
  },
  {
   "cell_type": "code",
   "execution_count": null,
   "metadata": {},
   "outputs": [],
   "source": []
  },
  {
   "cell_type": "code",
   "execution_count": null,
   "metadata": {},
   "outputs": [],
   "source": []
  },
  {
   "cell_type": "code",
   "execution_count": null,
   "metadata": {},
   "outputs": [],
   "source": []
  },
  {
   "cell_type": "code",
   "execution_count": null,
   "metadata": {},
   "outputs": [],
   "source": []
  }
 ],
 "metadata": {
  "kernelspec": {
   "display_name": "Python 3",
   "language": "python",
   "name": "python3"
  },
  "language_info": {
   "codemirror_mode": {
    "name": "ipython",
    "version": 3
   },
   "file_extension": ".py",
   "mimetype": "text/x-python",
   "name": "python",
   "nbconvert_exporter": "python",
   "pygments_lexer": "ipython3",
   "version": "3.7.6"
  }
 },
 "nbformat": 4,
 "nbformat_minor": 4
}
